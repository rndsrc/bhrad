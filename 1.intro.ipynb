{
 "cells": [
  {
   "cell_type": "markdown",
   "id": "acbe3fc5-ad08-441b-b3c6-d2a62e628b67",
   "metadata": {},
   "source": [
    "# Radiative Processes for Black Holes\n",
    "\n",
    "## 1. Introduction\n",
    "\n",
    "This repository contains python functions that are useful for the electromagnetic signals from black holes."
   ]
  },
  {
   "cell_type": "code",
   "execution_count": 1,
   "id": "09620d6f-d493-4b90-ba60-dc8bbf9ee861",
   "metadata": {},
   "outputs": [],
   "source": [
    "# Turn on autoreload for Jupyter to make developer easier\n",
    "%load_ext autoreload\n",
    "%autoreload 2\n",
    "\n",
    "# Standard library and constants\n",
    "from math import pi\n",
    "\n",
    "# Standard python packages\n",
    "import numpy as np\n",
    "from matplotlib import pyplot as plt\n",
    "\n",
    "# Astropy units and constants are extremely powerful\n",
    "from astropy import units     as u\n",
    "from astropy import constants as c"
   ]
  },
  {
   "cell_type": "markdown",
   "id": "d7d26030-0109-4c10-96fb-f75152926e0f",
   "metadata": {},
   "source": [
    "### 1.1. Physical Units\n",
    "\n",
    "Before we dive into radiative transfer, let's first look at the one zone model of Sgr A*."
   ]
  },
  {
   "cell_type": "code",
   "execution_count": 2,
   "id": "ce7f91be-d95b-4cd3-a233-000ef61e1919",
   "metadata": {},
   "outputs": [],
   "source": [
    "M_BH = 4.136e6 * u.Msun\n",
    "D_BH = 8.142   * u.kpc"
   ]
  },
  {
   "cell_type": "markdown",
   "id": "edc20681-db15-4f30-97d2-01961ac10470",
   "metadata": {},
   "source": [
    "With astropy units, it's trivial to turn the above astrophysical units to something we are more familiar with."
   ]
  },
  {
   "cell_type": "code",
   "execution_count": 3,
   "id": "2ec4c79a-6438-414e-ac45-f3571196a4d5",
   "metadata": {},
   "outputs": [
    {
     "data": {
      "text/latex": [
       "$8.2240632 \\times 10^{39} \\; \\mathrm{g}$"
      ],
      "text/plain": [
       "<Quantity 8.22406323e+39 g>"
      ]
     },
     "metadata": {},
     "output_type": "display_data"
    },
    {
     "data": {
      "text/latex": [
       "$2.5123587 \\times 10^{22} \\; \\mathrm{cm}$"
      ],
      "text/plain": [
       "<Quantity 2.51235869e+22 cm>"
      ]
     },
     "metadata": {},
     "output_type": "display_data"
    }
   ],
   "source": [
    "display(M_BH.cgs, D_BH.cgs)"
   ]
  },
  {
   "cell_type": "markdown",
   "id": "7f696328-0316-4d79-9be4-84e019e27a1a",
   "metadata": {},
   "source": [
    "We actually know a lot about a black hole once we know its mass.\n",
    "For example, the gravitational length and time scales are simply $GM/c^2$ and $GM/c^3$, respectively.\n",
    "We can define them in python."
   ]
  },
  {
   "cell_type": "code",
   "execution_count": 4,
   "id": "6d719ce5-daff-4d5e-aa50-8f6c568da3d0",
   "metadata": {},
   "outputs": [
    {
     "data": {
      "text/latex": [
       "$6.1073212 \\times 10^{11} \\; \\mathrm{cm}$"
      ],
      "text/plain": [
       "<Quantity 6.10732116e+11 cm>"
      ]
     },
     "metadata": {},
     "output_type": "display_data"
    },
    {
     "data": {
      "text/latex": [
       "$20.371831 \\; \\mathrm{s}$"
      ],
      "text/plain": [
       "<Quantity 20.37183056 s>"
      ]
     },
     "metadata": {},
     "output_type": "display_data"
    }
   ],
   "source": [
    "r_g = c.G * M_BH / c.c**2 # \"M\" as legth scale\n",
    "t_g = c.G * M_BH / c.c**3 # \"M\" as time scale\n",
    "\n",
    "display(r_g.cgs, t_g.cgs)"
   ]
  },
  {
   "cell_type": "markdown",
   "id": "cbc01283-7b7d-4d79-b258-38997d4d546d",
   "metadata": {},
   "source": [
    "The \"radius\" of a non-spin black hole, the Schwarzschild radius, is simply $2 r_g$.\n",
    "The inner most stable circular orbit (ISCO) for such a black hole is at $6 M$.\n",
    "Hence, the orbital timescale at ISCO are given as the following:"
   ]
  },
  {
   "cell_type": "code",
   "execution_count": 5,
   "id": "8ff0b7be-7dbd-4c36-bed7-bd320fa79495",
   "metadata": {},
   "outputs": [
    {
     "data": {
      "text/latex": [
       "$1.2214642 \\times 10^{12} \\; \\mathrm{cm}$"
      ],
      "text/plain": [
       "<Quantity 1.22146423e+12 cm>"
      ]
     },
     "metadata": {},
     "output_type": "display_data"
    },
    {
     "data": {
      "text/latex": [
       "$12.799999 \\; \\mathrm{min}$"
      ],
      "text/plain": [
       "<Quantity 12.79999865 min>"
      ]
     },
     "metadata": {},
     "output_type": "display_data"
    }
   ],
   "source": [
    "r_S    = 2 * r_g\n",
    "t_ISCO = 2 * pi * 6 * r_g / c.c\n",
    "\n",
    "display(r_S.cgs, t_ISCO.to(u.min))"
   ]
  },
  {
   "cell_type": "markdown",
   "id": "15eceb03-ee9e-4e14-abe9-4d21b8c166da",
   "metadata": {},
   "source": [
    "### 1.2. Black Hole Image Size\n",
    "\n",
    "The \"shadow\" size of a non-spinning black hole is $\\sqrt(27)M$.\n",
    "Using the distance from Sgr A*, we can compute its apparent size on the sky."
   ]
  },
  {
   "cell_type": "code",
   "execution_count": 6,
   "id": "44170a63-c35b-4177-8c90-ad7faf88ca16",
   "metadata": {},
   "outputs": [
    {
     "data": {
      "text/latex": [
       "$1.2631386 \\times 10^{-10} \\; \\mathrm{rad}$"
      ],
      "text/plain": [
       "<Quantity 1.26313857e-10 rad>"
      ]
     },
     "metadata": {},
     "output_type": "display_data"
    },
    {
     "data": {
      "text/latex": [
       "$26.054103 \\; \\mathrm{\\mu arcsec}$"
      ],
      "text/plain": [
       "<Quantity 26.05410327 uarcsec>"
      ]
     },
     "metadata": {},
     "output_type": "display_data"
    }
   ],
   "source": [
    "r_shadow = np.sqrt(27) * r_g\n",
    "size     = r_shadow / D_BH * u.radian\n",
    "\n",
    "display(size.cgs, size.to(u.microarcsecond))"
   ]
  },
  {
   "cell_type": "markdown",
   "id": "91485e58-d6d1-4c95-917c-29f4149714d7",
   "metadata": {},
   "source": [
    "Note that, the EHT resolution is sub-microarcsecond"
   ]
  },
  {
   "cell_type": "code",
   "execution_count": 7,
   "id": "b54dd08e-b266-4a88-99ce-afed21dc6084",
   "metadata": {},
   "outputs": [
    {
     "data": {
      "text/latex": [
       "$21.0207 \\; \\mathrm{\\mu arcsec}$"
      ],
      "text/plain": [
       "<Quantity 21.02069959 uarcsec>"
      ]
     },
     "metadata": {},
     "output_type": "display_data"
    }
   ],
   "source": [
    "res_EHT = (1.3 * u.mm) / (2 * c.R_earth) * u.radian\n",
    "\n",
    "display(res_EHT.to(u.microarcsecond))"
   ]
  },
  {
   "cell_type": "markdown",
   "id": "7678f106-f330-4c46-a516-0958eafb5d37",
   "metadata": {},
   "source": [
    "### 1.3. Black Hole Luminosity\n",
    "\n",
    "The Eddington luminosity is defined as that luminosity that's strong enough to gravitationally unbound matter.\n",
    "While recent study shows that it is not really a *limit*, it is still a good quantity to compare the energy in radiation and in the system.\n",
    "\n",
    "In addition, assuming efficiency $\\epsilon = 0.1$, the corresponding Eddington accretion rate can be computed according to $L_\\mathrm{Edd} = \\epsilon \\dot{M}_\\mathrm{Edd} c^2$."
   ]
  },
  {
   "cell_type": "code",
   "execution_count": 8,
   "id": "941fa4cc-7eea-4688-ad6d-fd79f4bef968",
   "metadata": {},
   "outputs": [
    {
     "data": {
      "text/latex": [
       "$5.169669 \\times 10^{44} \\; \\mathrm{\\frac{erg}{s}}$"
      ],
      "text/plain": [
       "<Quantity 5.16966903e+44 erg / s>"
      ]
     },
     "metadata": {},
     "output_type": "display_data"
    },
    {
     "data": {
      "text/latex": [
       "$0.091289198 \\; \\mathrm{\\frac{M_{\\odot}}{yr}}$"
      ],
      "text/plain": [
       "<Quantity 0.0912892 solMass / yr>"
      ]
     },
     "metadata": {},
     "output_type": "display_data"
    }
   ],
   "source": [
    "X        = 1 # fractional abundance (by mass) of hydrogen\n",
    "kappa_es = 0.2 * (1 + X) * u.cm**2 / u.g # Electron-scattering opacity\n",
    "L_Edd    = 4 * pi * c.G * M_BH * c.c / kappa_es\n",
    "\n",
    "epsilon  = 0.1\n",
    "Mdot_Edd = L_Edd / (epsilon * c.c**2)\n",
    "\n",
    "display(L_Edd.cgs, Mdot_Edd.to(u.Msun / u.year))"
   ]
  },
  {
   "cell_type": "code",
   "execution_count": null,
   "id": "b618c6ed-61ab-4928-8ee0-faca85f1247c",
   "metadata": {},
   "outputs": [],
   "source": []
  }
 ],
 "metadata": {
  "kernelspec": {
   "display_name": "Python 3",
   "language": "python",
   "name": "python3"
  },
  "language_info": {
   "codemirror_mode": {
    "name": "ipython",
    "version": 3
   },
   "file_extension": ".py",
   "mimetype": "text/x-python",
   "name": "python",
   "nbconvert_exporter": "python",
   "pygments_lexer": "ipython3",
   "version": "3.9.5"
  }
 },
 "nbformat": 4,
 "nbformat_minor": 5
}
