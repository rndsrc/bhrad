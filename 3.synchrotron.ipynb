{
 "cells": [
  {
   "cell_type": "markdown",
   "id": "8bcaec63-0513-4fdd-a4e4-36bce916b6c2",
   "metadata": {},
   "source": [
    "# Radiative Processes for Black Holes\n",
    "\n",
    "## 3. Synchrotron Radiation\n",
    "\n",
    "This repository contains python functions that are useful for studying synchrotron radiation."
   ]
  },
  {
   "cell_type": "code",
   "execution_count": 1,
   "id": "d0aeccb0-fb7f-4195-a0e3-56bb959ae985",
   "metadata": {},
   "outputs": [],
   "source": [
    "# Turn on autoreload for Jupyter to make developer easier\n",
    "%load_ext autoreload\n",
    "%autoreload 2\n",
    "\n",
    "# Standard library and constants\n",
    "from math import pi\n",
    "\n",
    "# Standard python packages\n",
    "import numpy as np\n",
    "from matplotlib import pyplot as plt\n",
    "\n",
    "# Astropy units and constants are extremely powerful\n",
    "from astropy import units     as u\n",
    "from astropy import constants as c"
   ]
  },
  {
   "cell_type": "markdown",
   "id": "c9fff8e5-6e65-47f8-8afe-3c99bc414316",
   "metadata": {},
   "source": [
    "Although object oriented programming (OOP) is sometimes overkill for numerical analysis, given that we will need to compare different formulations of synchrotron radiation, it may still be useful to create classes to group functions/methods together.\n",
    "\n",
    "In OOP, it is possible to declare the required methods in a class without defining them.  Such a class is called an abstract class.  We will use python's builtin Abstract Base Classes package for this."
   ]
  },
  {
   "cell_type": "code",
   "execution_count": 2,
   "id": "08235e54-1d0c-441c-8fd9-309e67053b51",
   "metadata": {},
   "outputs": [],
   "source": [
    "from abc import ABC, abstractmethod"
   ]
  },
  {
   "cell_type": "markdown",
   "id": "dccec9a3-4146-4357-8bce-0d43ee4f8cbd",
   "metadata": {},
   "source": [
    "### 3.1 Planck's law\n",
    "\n",
    "Since Planck's law\n",
    "$$\n",
    "B_\\nu = \\frac{2 h \\nu^3}{c^2} \\frac{1}{\\exp(h\\nu/k_\\mathrm{B}T) - 1}\n",
    "$$\n",
    "is simple enough, we include it as a concrete method.  Nevertheless, it is possible to override it with better optimized form."
   ]
  },
  {
   "cell_type": "code",
   "execution_count": 3,
   "id": "ab8eccc7-406b-44c8-91ac-cf53d553f524",
   "metadata": {},
   "outputs": [],
   "source": [
    "class Radiating(ABC):\n",
    "    \"\"\" Radiating Abstract Base Class \"\"\"\n",
    "    \n",
    "    def __init__(self, rho, T, cos_theta, B, Z=1):\n",
    "        \"\"\" Set fluid property \"\"\"\n",
    "        self.rho = rho\n",
    "        self.T   = T\n",
    "        self.B   = B\n",
    "        self.cos = cos_theta\n",
    "        self.Z   = Z\n",
    "    \n",
    "    def Bnu(self, nu):\n",
    "        \"\"\" Planck function \"\"\"\n",
    "        x = (c.h * nu) / (c.k_B * self.T)\n",
    "        f = 2 * c.h * (nu * nu * nu) / (c.c * c.c)\n",
    "        return f / (np.exp(x) - 1)\n",
    "\n",
    "    @abstractmethod\n",
    "    def jnu_bremss(self, nu):\n",
    "        \"\"\" Bremsstrahlung emissivity \"\"\"\n",
    "        pass\n",
    "    \n",
    "    @abstractmethod\n",
    "    def jnu_sync(self, nu):\n",
    "        \"\"\" Synchrotron emissivity \"\"\"\n",
    "        pass"
   ]
  },
  {
   "cell_type": "markdown",
   "id": "b62228e8-5d9b-4816-b385-9b95eb5498ed",
   "metadata": {},
   "source": [
    "Note that, because Radiating is an ABC, you cannot instantize it:"
   ]
  },
  {
   "cell_type": "code",
   "execution_count": 4,
   "id": "c3b5976c-059b-489d-ae83-a7fde2baf65c",
   "metadata": {},
   "outputs": [
    {
     "ename": "TypeError",
     "evalue": "Can't instantiate abstract class Radiating with abstract methods jnu_bremss, jnu_sync",
     "output_type": "error",
     "traceback": [
      "\u001b[0;31m---------------------------------------------------------------------------\u001b[0m",
      "\u001b[0;31mTypeError\u001b[0m                                 Traceback (most recent call last)",
      "\u001b[0;32m<ipython-input-4-83f1e1dec704>\u001b[0m in \u001b[0;36m<module>\u001b[0;34m\u001b[0m\n\u001b[0;32m----> 1\u001b[0;31m \u001b[0mdisk\u001b[0m \u001b[0;34m=\u001b[0m \u001b[0mRadiating\u001b[0m\u001b[0;34m(\u001b[0m\u001b[0;36m1e18\u001b[0m \u001b[0;34m*\u001b[0m \u001b[0mu\u001b[0m\u001b[0;34m.\u001b[0m\u001b[0mg\u001b[0m \u001b[0;34m/\u001b[0m \u001b[0mu\u001b[0m\u001b[0;34m.\u001b[0m\u001b[0mcm\u001b[0m\u001b[0;34m**\u001b[0m\u001b[0;36m3\u001b[0m\u001b[0;34m,\u001b[0m \u001b[0;36m1e10\u001b[0m \u001b[0;34m*\u001b[0m \u001b[0mu\u001b[0m\u001b[0;34m.\u001b[0m\u001b[0mK\u001b[0m\u001b[0;34m,\u001b[0m \u001b[0;36m0\u001b[0m\u001b[0;34m,\u001b[0m \u001b[0;36m0\u001b[0m\u001b[0;34m)\u001b[0m\u001b[0;34m\u001b[0m\u001b[0;34m\u001b[0m\u001b[0m\n\u001b[0m",
      "\u001b[0;31mTypeError\u001b[0m: Can't instantiate abstract class Radiating with abstract methods jnu_bremss, jnu_sync"
     ]
    }
   ],
   "source": [
    "disk = Radiating(1e18 * u.g / u.cm**3, 1e10 * u.K, 0, 0)"
   ]
  },
  {
   "cell_type": "markdown",
   "id": "ab91733b-e738-4d98-bf92-ca1257c5ea10",
   "metadata": {},
   "source": [
    "You have to sublass it first:"
   ]
  },
  {
   "cell_type": "code",
   "execution_count": 5,
   "id": "81330039-62a9-4fc3-b2df-023f44a28630",
   "metadata": {},
   "outputs": [],
   "source": [
    "class Dummy(Radiating):\n",
    "    def jnu_bremss(self, nu):\n",
    "        pass\n",
    "    \n",
    "    def jnu_sync(self, nu):\n",
    "        pass\n",
    "    \n",
    "disk = Dummy(1e18 * u.g / u.cm**3, 1e10 * u.K, 0, 0)"
   ]
  },
  {
   "cell_type": "markdown",
   "id": "b2714605-a4d3-436a-a11a-6860f1951396",
   "metadata": {},
   "source": [
    "We may now plot Planck's law:"
   ]
  },
  {
   "cell_type": "code",
   "execution_count": 6,
   "id": "e1791683-b3c2-4992-aee1-8a59a0c3d130",
   "metadata": {},
   "outputs": [
    {
     "name": "stderr",
     "output_type": "stream",
     "text": [
      "/opt/local/Library/Frameworks/Python.framework/Versions/3.9/lib/python3.9/site-packages/astropy/units/quantity.py:479: RuntimeWarning: overflow encountered in exp\n",
      "  result = super().__array_ufunc__(function, method, *arrays, **kwargs)\n"
     ]
    },
    {
     "data": {
      "text/plain": [
       "(1e-10, 1e+20)"
      ]
     },
     "execution_count": 6,
     "metadata": {},
     "output_type": "execute_result"
    },
    {
     "data": {
      "image/png": "[encoded data removed]",
      "text/plain": [
       "<Figure size 432x288 with 1 Axes>"
      ]
     },
     "metadata": {
      "needs_background": "light"
     },
     "output_type": "display_data"
    }
   ],
   "source": [
    "nus = np.logspace(9, 24, 15*4+1) * u.Hz\n",
    "\n",
    "plt.loglog(nus, disk.Bnu(nus))\n",
    "plt.ylim(1e-10, 1e20)"
   ]
  },
  {
   "cell_type": "markdown",
   "id": "abf52deb-bb0e-4d54-91c9-067f953a75cf",
   "metadata": {},
   "source": [
    "### 1.2. Raybinkin-Lightman Formulations"
   ]
  },
  {
   "cell_type": "code",
   "execution_count": 7,
   "id": "bd24c948-058b-4f70-a276-7576deeb4e5e",
   "metadata": {},
   "outputs": [],
   "source": [
    "class RL(Radiating):\n",
    "    def jnu_bremss(self, nu):\n",
    "        f = (32 * pi * c.e.gauss**6) / (3 * c.m_e * c.c**3) * np.sqrt(2 * pi / (3 * c.k_B * c.m_e))\n",
    "        ne = self.rho / (c.m_e + c.m_p)\n",
    "        ni = ne\n",
    "        return f * np.sqrt(self.T) * self.Z * self.Z * ne * ni * np.exp(- c.h * nu / (c.k_B * self.T))\n",
    "    \n",
    "    def jnu_sync(self, nu):\n",
    "        pass"
   ]
  },
  {
   "cell_type": "code",
   "execution_count": 8,
   "id": "6f002e5e-ddeb-48bc-bba3-693d0e6ec559",
   "metadata": {},
   "outputs": [
    {
     "data": {
      "text/plain": [
       "[<matplotlib.lines.Line2D at 0x12308f280>]"
      ]
     },
     "execution_count": 8,
     "metadata": {},
     "output_type": "execute_result"
    },
    {
     "data": {
      "image/png": "[encoded data removed]",
      "text/plain": [
       "<Figure size 432x288 with 1 Axes>"
      ]
     },
     "metadata": {
      "needs_background": "light"
     },
     "output_type": "display_data"
    }
   ],
   "source": [
    "disk_RL = RL(1e18 * u.g / u.cm**3, 1e10 * u.K, 0, 0)\n",
    "\n",
    "plt.loglog(nus, disk_RL.jnu_bremss(nus))"
   ]
  },
  {
   "cell_type": "code",
   "execution_count": null,
   "id": "d74df02f-b27c-4190-80a7-15ce921c8468",
   "metadata": {},
   "outputs": [],
   "source": []
  }
 ],
 "metadata": {
  "kernelspec": {
   "display_name": "Python 3",
   "language": "python",
   "name": "python3"
  },
  "language_info": {
   "codemirror_mode": {
    "name": "ipython",
    "version": 3
   },
   "file_extension": ".py",
   "mimetype": "text/x-python",
   "name": "python",
   "nbconvert_exporter": "python",
   "pygments_lexer": "ipython3",
   "version": "3.9.5"
  }
 },
 "nbformat": 4,
 "nbformat_minor": 5
}
