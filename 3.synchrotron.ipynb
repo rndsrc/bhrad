{
 "cells": [
  {
   "cell_type": "markdown",
   "id": "8bcaec63-0513-4fdd-a4e4-36bce916b6c2",
   "metadata": {},
   "source": [
    "# Radiative Processes for Black Holes\n",
    "\n",
    "## 3. Synchrotron Radiation\n",
    "\n",
    "This repository contains python functions that are useful for studying synchrotron radiation."
   ]
  },
  {
   "cell_type": "code",
   "execution_count": 1,
   "id": "d0aeccb0-fb7f-4195-a0e3-56bb959ae985",
   "metadata": {},
   "outputs": [],
   "source": [
    "# Turn on autoreload for Jupyter to make developer easier\n",
    "%load_ext autoreload\n",
    "%autoreload 2\n",
    "\n",
    "# Standard library and constants\n",
    "from math import pi\n",
    "\n",
    "# Standard python packages\n",
    "import numpy as np\n",
    "from matplotlib import pyplot as plt\n",
    "\n",
    "# Astropy units and constants are extremely powerful\n",
    "from astropy import units     as u\n",
    "from astropy import constants as c"
   ]
  },
  {
   "cell_type": "markdown",
   "id": "c9fff8e5-6e65-47f8-8afe-3c99bc414316",
   "metadata": {},
   "source": [
    "Although object oriented programming (OOP) is sometimes overkill for numerical analysis, given that we will need to compare different formulations of synchrotron radiation, it may still be useful to create classes to group functions/methods together.\n",
    "\n",
    "In OOP, it is possible to declare the required methods in a class without defining them.  Such a class is called an abstract class.  We will use python's builtin Abstract Base Classes package for this.\n",
    "\n",
    "Since the Planck law\n",
    "$$\n",
    "B_\\nu = \\frac{2 h \\nu^3}{c^2} \\frac{1}{\\exp(h\\nu/k_\\mathrm{B}T) - 1}\n",
    "$$\n",
    "is simple enough, we include it as a concrete method.  Nevertheless, it is possible to override it with better optimized form."
   ]
  },
  {
   "cell_type": "code",
   "execution_count": 2,
   "id": "ab8eccc7-406b-44c8-91ac-cf53d553f524",
   "metadata": {},
   "outputs": [],
   "source": [
    "from abc import ABC, abstractmethod\n",
    "\n",
    "class Radiating(ABC):\n",
    "    \"\"\" Radiating Abstract Base Class \"\"\"\n",
    "    \n",
    "    def __init__(self, rho, T, cos_theta, B):\n",
    "        \"\"\" Set fluid property \"\"\"\n",
    "        self.rho = rho\n",
    "        self.T   = T\n",
    "        self.B   = B\n",
    "        self.cos = cos_theta\n",
    "    \n",
    "    def Bnu(self, nu):\n",
    "        \"\"\" Planck function \"\"\"\n",
    "        x = (c.h * nu) / (c.k_B * self.T)\n",
    "        f = 2 * c.h * (nu * nu * nu) / (c.c * c.c)\n",
    "        return f / (np.exp(x) - 1)\n",
    "\n",
    "    @abstractmethod\n",
    "    def jnu_bremss(self, nu):\n",
    "        \"\"\" Bremsstrahlung emissivity \"\"\"\n",
    "        pass\n",
    "    \n",
    "    @abstractmethod\n",
    "    def jnu_sync(self, nu):\n",
    "        \"\"\" Synchrotron emissivity \"\"\"\n",
    "        pass"
   ]
  }
 ],
 "metadata": {
  "kernelspec": {
   "display_name": "Python 3",
   "language": "python",
   "name": "python3"
  },
  "language_info": {
   "codemirror_mode": {
    "name": "ipython",
    "version": 3
   },
   "file_extension": ".py",
   "mimetype": "text/x-python",
   "name": "python",
   "nbconvert_exporter": "python",
   "pygments_lexer": "ipython3",
   "version": "3.9.5"
  }
 },
 "nbformat": 4,
 "nbformat_minor": 5
}
